{
 "cells": [
  {
   "cell_type": "code",
   "execution_count": null,
   "id": "9efbfe89",
   "metadata": {},
   "outputs": [],
   "source": [
    "\"\"\"61275029H 丁柏丞 kevin\"\"\"\n",
    "import matplotlib.pyplot as plt\n",
    "import numpy as np\n",
    "import random\n",
    "import math\n",
    "from IPython.display import display, HTML\n",
    "import json\n",
    "import pathlib\n",
    "    "
   ]
  },
  {
   "cell_type": "code",
   "execution_count": null,
   "id": "1257f3ed",
   "metadata": {},
   "outputs": [],
   "source": [
    "\n",
    "def load_config(fname):\n",
    "    d = {}\n",
    "    if pathlib.Path(fname).is_file():\n",
    "        with open(fname,\"r\") as f:\n",
    "            d = json.load(f)\n",
    "    else:\n",
    "        id = input(\"Student Id\")\n",
    "        name = input(\"Student Name\")\n",
    "        d[\"student_id\"] = id\n",
    "        d[\"student_name\"] = name\n",
    "        with open(fname,\"w\") as f:\n",
    "            json.dump(d,f)\n",
    "    return d\n",
    "\n",
    "config=load_config(\"config.json\")\n",
    "print(config)    \n"
   ]
  },
  {
   "cell_type": "markdown",
   "id": "86618cf6",
   "metadata": {},
   "source": [
    "<!-- <div class=\"question_frame\"> --><!-- start of question_frame -->\n"
   ]
  },
  {
   "cell_type": "code",
   "execution_count": null,
   "id": "083a8dd8",
   "metadata": {},
   "outputs": [],
   "source": [
    "t = \"\"\"\n",
    "\n",
    "        <h1>Mystery Program</h1>\n",
    "        <div class=\"question_body\">\n",
    "             \n",
    "<p>Given is the following mystery program.</p>\n",
    "\n",
    "<code>\n",
    "<pre>\n",
    "\n",
    "# DO NOT EDIT THIS CODE\n",
    "def f(p1):\n",
    "    q1 = [31,26,56,90,89,17,65,70,39,46,38]\n",
    "    s = 0\n",
    "    for i in range(len(q1)):\n",
    "        p = q1[i % len(q1)]\n",
    "        if s == p1[i]:\n",
    "            s = s + p\n",
    "    return s == 292\n",
    "# DO NOT EDIT THIS CODE\n",
    "\n",
    "</pre>\n",
    "</code>\n",
    "\n",
    "        </div><!-- end of question_body -->\n",
    "    \n",
    "\"\"\"\n",
    "display(HTML(t))"
   ]
  },
  {
   "cell_type": "markdown",
   "id": "9ed306ce",
   "metadata": {},
   "source": [
    "\n",
    "<div class=\"question_marks\">\n",
    "<span class=\"mark_num\" style=\"text-align:right\">12</span> marks\n",
    "</div><!-- end of question_marks -->\n"
   ]
  },
  {
   "cell_type": "code",
   "execution_count": null,
   "id": "35f41e23",
   "metadata": {},
   "outputs": [],
   "source": [
    "\n",
    "# Find an input such that the routine f(p1) returns True\n",
    "# Modify the value of p1 here\n",
    "p1 = [ 0,0,0,0,0,0,0,0,0,0,0 ]\n",
    "r = f(p1)\n",
    "print(\"p1:\",p1,\"result:\", r, \"passed:\", \"passed\" if r == True else \"failed\")\n"
   ]
  },
  {
   "cell_type": "markdown",
   "id": "38db5804",
   "metadata": {},
   "source": [
    "<p>Show your work and explain your answer in this cell. You can add additional markdown and code cells, if you want to after this cell.\n",
    "<br> ans:[0, 31, 57, 113, 203, 0, 0, 0, 0, 0, 0]</p>"
   ]
  },
  {
   "cell_type": "markdown",
   "id": "4ee4a6d5",
   "metadata": {},
   "source": [
    "<!-- </div> --><!-- end of question_frame -->\n"
   ]
  },
  {
   "cell_type": "code",
   "execution_count": 22,
   "id": "5dfc99cb",
   "metadata": {},
   "outputs": [
    {
     "name": "stdout",
     "output_type": "stream",
     "text": [
      "sum(0~4)-292\n",
      "q1:[31, 26, 56, 90, 89, 17, 65, 70, 39, 46, 38]\n",
      "p1: [0, 31, 57, 113, 203, 0, 0, 0, 0, 0, 0] result: True passed: passed\n"
     ]
    }
   ],
   "source": [
    "import random\n",
    "def f(p1):\n",
    "    q1 = [31,26,56,90,89,17,65,70,39,46,38]\n",
    "    s = 0\n",
    "    for i in range(len(q1)):\n",
    "        p = q1[i % len(q1)]\n",
    "        if s == p1[i]:\n",
    "            s = s + p\n",
    "    return s == 292\n",
    "\n",
    "\"\"\"\n",
    "292 subtracts the value in the q1 array. When the value is less than 0, \n",
    "the loop ends and the array is scrambled. When it is equal to 0, \n",
    "the target index value and the array are displayed.\n",
    "\"\"\"\n",
    "q1=[31,26,56,90,89,17,65,70,39,46,38]\n",
    "ck=True\n",
    "\n",
    "end=0\n",
    "while ck:       \n",
    "\n",
    "    value=292\n",
    "    for y in range(0,len(q1)):\n",
    "        value-=q1[y]\n",
    "        \n",
    "        if value==0:\n",
    "            print(f\"sum(0~{y})-292\")\n",
    "            print(f\"q1:{q1}\")\n",
    "            end=y               \n",
    "            ck=False\n",
    "\n",
    "        if value<0:\n",
    "            break\n",
    "\n",
    "    if ck:       \n",
    "        q1=random.sample(q1,len(q1))\n",
    "\n",
    "\n",
    "\"\"\"\n",
    "Calculate p1 using the target index value\n",
    "\"\"\"\n",
    "p1=[0, 0, 0, 0, 0, 0, 0, 0, 0, 0, 0]\n",
    "stap=0\n",
    "index=0\n",
    "for x in range(0,end+1):\n",
    "    p1[index]+=stap\n",
    "    stap+=q1[x]\n",
    "    index+=1\n",
    "\n",
    "r=f(p1)\n",
    "print(\"p1:\",p1,\"result:\", r, \"passed:\", \"passed\" if r == True else \"failed\")"
   ]
  },
  {
   "cell_type": "markdown",
   "id": "177d22f5",
   "metadata": {},
   "source": [
    "<!-- <div class=\"question_frame\"> --><!-- start of question_frame -->\n"
   ]
  },
  {
   "cell_type": "code",
   "execution_count": null,
   "id": "e4234886",
   "metadata": {},
   "outputs": [],
   "source": [
    "t = \"\"\"\n",
    "\n",
    "        <h1>Runtime Complexity</h1>\n",
    "        <div class=\"question_body\">\n",
    "             \n",
    "<p>You call the routine <code>f</code> with an input list of length\n",
    "77000. You measure a time of 0.77 seconds for the routine to\n",
    "complete.</p>\n",
    "\n",
    "        </div><!-- end of question_body -->\n",
    "    \n",
    "\"\"\"\n",
    "display(HTML(t))"
   ]
  },
  {
   "cell_type": "markdown",
   "id": "6b4b5151",
   "metadata": {},
   "source": [
    "\n",
    "<div class=\"question_marks\">\n",
    "<span class=\"mark_num\" style=\"text-align:right\">5</span> marks\n",
    "</div><!-- end of question_marks -->\n"
   ]
  },
  {
   "cell_type": "markdown",
   "id": "c2c91e42",
   "metadata": {},
   "source": [
    "\n",
    "<p>Estimate the runtime of the routine <code>f</code>, if you call\n",
    "the routine with an input list of length 113000.</p>\n",
    "\n",
    "<p>Runtime of routine <code>f</code> with an input list of\n",
    "length 113000: [1.1300000000000001]</p>\n"
   ]
  },
  {
   "cell_type": "markdown",
   "id": "a7cd86ca",
   "metadata": {},
   "source": [
    "<p>Show your work and explain your answer in this cell. If you want to, you can add additional markdown and code cells after this cell.</p>"
   ]
  },
  {
   "cell_type": "markdown",
   "id": "f28ca55b",
   "metadata": {},
   "source": [
    "<!-- </div> --><!-- end of question_frame -->\n"
   ]
  },
  {
   "cell_type": "code",
   "execution_count": 25,
   "id": "e2b68bbf",
   "metadata": {},
   "outputs": [
    {
     "name": "stdout",
     "output_type": "stream",
     "text": [
      "1 length is 1e-05\n",
      "so 113000 length is 1.1300000000000001\n"
     ]
    }
   ],
   "source": [
    "\"77000 length entered in 0.77 seconds\"\n",
    "print(f\"1 length is {0.77/77000}\")\n",
    "\"1 length is 1e-05\"\n",
    "print(f\"so 113000 length is {0.77/77000*113000}\")\n"
   ]
  }
 ],
 "metadata": {
  "kernelspec": {
   "display_name": "Python 3",
   "language": "python",
   "name": "python3"
  },
  "language_info": {
   "codemirror_mode": {
    "name": "ipython",
    "version": 3
   },
   "file_extension": ".py",
   "mimetype": "text/x-python",
   "name": "python",
   "nbconvert_exporter": "python",
   "pygments_lexer": "ipython3",
   "version": "3.9.13"
  }
 },
 "nbformat": 4,
 "nbformat_minor": 5
}
